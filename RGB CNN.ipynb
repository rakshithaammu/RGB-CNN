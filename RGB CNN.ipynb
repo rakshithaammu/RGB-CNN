{
 "cells": [
  {
   "cell_type": "code",
   "execution_count": 5,
   "id": "98bb6c89-5b83-4f34-bbdd-b8789420407e",
   "metadata": {},
   "outputs": [
    {
     "name": "stdout",
     "output_type": "stream",
     "text": [
      "Found 36 images belonging to 3 classes.\n",
      "Found 6 images belonging to 3 classes.\n",
      "['blue', 'green', 'red']\n"
     ]
    }
   ],
   "source": [
    "# Import TensorFlow library\n",
    "import tensorflow as tf\n",
    "\n",
    "# Import Keras from TensorFlow\n",
    "from tensorflow import keras\n",
    "\n",
    "# Import layers module from Keras\n",
    "from tensorflow.keras import layers\n",
    "\n",
    "# Import Dense layer from Keras layers\n",
    "from keras.layers import Dense\n",
    "\n",
    "# Import PyDataset utility from Keras (Note: this import seems unused in the code)\n",
    "from keras.utils import PyDataset\n",
    "\n",
    "# Import ImageDataGenerator for image preprocessing and augmentation\n",
    "from tensorflow.keras.preprocessing.image import ImageDataGenerator\n",
    "\n",
    "# Define image size (224x224 pixels)\n",
    "IMG_SIZE = 224\n",
    "\n",
    "# Define batch size for training\n",
    "BATCH_SIZE = 32\n",
    "\n",
    "# Create an ImageDataGenerator with rescaling and validation split\n",
    "train_datagen = ImageDataGenerator(rescale=1./255, validation_split=0.2)\n",
    "\n",
    "# Create a generator for training data\n",
    "train_generator = train_datagen.flow_from_directory(\n",
    "    r\"C:\\Users\\raksh\\Downloads\\Train\\Train\",  # Directory path for training images\n",
    "    target_size=(IMG_SIZE, IMG_SIZE),  # Resize images to IMG_SIZE\n",
    "    batch_size=BATCH_SIZE,  # Use defined batch size\n",
    "    class_mode='categorical',  # Use categorical labels\n",
    "    subset='training'  # Specify this is the training subset\n",
    ")\n",
    "\n",
    "# Create a generator for validation data\n",
    "val_generator = train_datagen.flow_from_directory(\n",
    "    r\"C:\\Users\\raksh\\Downloads\\Train\\Train\",  # Directory path for validation images (same as training in this case)\n",
    "    target_size=(IMG_SIZE, IMG_SIZE),  # Resize images to IMG_SIZE\n",
    "    batch_size=BATCH_SIZE,  # Use defined batch size\n",
    "    class_mode='categorical',  # Use categorical labels\n",
    "    subset='validation'  # Specify this is the validation subset\n",
    ")\n",
    "\n",
    "# Get the list of class names from the training generator\n",
    "classes = list(train_generator.class_indices)\n",
    "\n",
    "# Print the list of classes\n",
    "print(classes)"
   ]
  },
  {
   "cell_type": "code",
   "execution_count": 6,
   "id": "7a380224-4a5c-4fa2-a996-5d40173b81be",
   "metadata": {},
   "outputs": [],
   "source": [
    "# Define a Sequential model\n",
    "model = keras.Sequential([\n",
    "    # First Convolutional layer\n",
    "    layers.Conv2D(32, (3,3), activation='relu', input_shape=(IMG_SIZE,IMG_SIZE,3)),\n",
    "    # Max Pooling layer after first Conv2D\n",
    "    layers.MaxPooling2D((2,2)),\n",
    "    \n",
    "    # Second Convolutional layer\n",
    "    layers.Conv2D(64, (3,3), activation='relu'),\n",
    "    # Max Pooling layer after second Conv2D\n",
    "    layers.MaxPooling2D((2,2)),\n",
    "    \n",
    "    # Third Convolutional layer\n",
    "    layers.Conv2D(128, (3,3), activation='relu'),\n",
    "    # Max Pooling layer after third Conv2D\n",
    "    layers.MaxPooling2D((2,2)),\n",
    "    \n",
    "    # Flatten layer to convert 2D feature maps to 1D feature vector\n",
    "    layers.Flatten(),\n",
    "    \n",
    "    # First Dense (fully connected) layer\n",
    "    layers.Dense(128, activation='relu'),\n",
    "    \n",
    "    # Output Dense layer with 3 units (assuming 3 classes) and softmax activation\n",
    "    layers.Dense(3, activation='softmax')\n",
    "])  "
   ]
  },
  {
   "cell_type": "code",
   "execution_count": 7,
   "id": "0b2a34e5-edbd-4ab9-a79c-4caf6c2c3bf4",
   "metadata": {},
   "outputs": [
    {
     "name": "stdout",
     "output_type": "stream",
     "text": [
      "Epoch 1/5\n"
     ]
    },
    {
     "name": "stderr",
     "output_type": "stream",
     "text": [
      "C:\\Users\\raksh\\anaconda4\\Lib\\site-packages\\keras\\src\\trainers\\data_adapters\\py_dataset_adapter.py:121: UserWarning: Your `PyDataset` class should call `super().__init__(**kwargs)` in its constructor. `**kwargs` can include `workers`, `use_multiprocessing`, `max_queue_size`. Do not pass these arguments to `fit()`, as they will be ignored.\n",
      "  self._warn_if_super_not_called()\n"
     ]
    },
    {
     "name": "stdout",
     "output_type": "stream",
     "text": [
      "\u001b[1m2/2\u001b[0m \u001b[32m━━━━━━━━━━━━━━━━━━━━\u001b[0m\u001b[37m\u001b[0m \u001b[1m6s\u001b[0m 918ms/step - accuracy: 0.3553 - loss: 1.3161 - val_accuracy: 0.6667 - val_loss: 1.7226\n",
      "Epoch 2/5\n",
      "\u001b[1m2/2\u001b[0m \u001b[32m━━━━━━━━━━━━━━━━━━━━\u001b[0m\u001b[37m\u001b[0m \u001b[1m2s\u001b[0m 2s/step - accuracy: 0.5556 - loss: 2.6547 - val_accuracy: 0.6667 - val_loss: 0.6522\n",
      "Epoch 3/5\n",
      "\u001b[1m2/2\u001b[0m \u001b[32m━━━━━━━━━━━━━━━━━━━━\u001b[0m\u001b[37m\u001b[0m \u001b[1m2s\u001b[0m 383ms/step - accuracy: 0.6632 - loss: 0.7797 - val_accuracy: 1.0000 - val_loss: 0.1982\n",
      "Epoch 4/5\n",
      "\u001b[1m2/2\u001b[0m \u001b[32m━━━━━━━━━━━━━━━━━━━━\u001b[0m\u001b[37m\u001b[0m \u001b[1m2s\u001b[0m 2s/step - accuracy: 0.8889 - loss: 0.3340 - val_accuracy: 1.0000 - val_loss: 0.0788\n",
      "Epoch 5/5\n",
      "\u001b[1m2/2\u001b[0m \u001b[32m━━━━━━━━━━━━━━━━━━━━\u001b[0m\u001b[37m\u001b[0m \u001b[1m2s\u001b[0m 2s/step - accuracy: 1.0000 - loss: 0.0858 - val_accuracy: 1.0000 - val_loss: 0.0483\n"
     ]
    },
    {
     "data": {
      "text/plain": [
       "<keras.src.callbacks.history.History at 0x1bacd007f50>"
      ]
     },
     "execution_count": 7,
     "metadata": {},
     "output_type": "execute_result"
    }
   ],
   "source": [
    "# Compile the model\n",
    "model.compile(\n",
    "    optimizer='adam',  # Use Adam optimizer\n",
    "    loss='categorical_crossentropy',  # Use categorical crossentropy loss for multi-class classification\n",
    "    metrics=['accuracy']  # Track accuracy metric during training\n",
    ")\n",
    "\n",
    "# Train the model\n",
    "model.fit(\n",
    "    train_generator,  # Use the training data generator\n",
    "    validation_data=val_generator,  # Use the validation data generator\n",
    "    epochs=5  # Train for 5 epochs\n",
    ")"
   ]
  },
  {
   "cell_type": "code",
   "execution_count": 8,
   "id": "d024f881-5110-4519-a61d-ba6f9415ebe7",
   "metadata": {},
   "outputs": [
    {
     "name": "stderr",
     "output_type": "stream",
     "text": [
      "WARNING:absl:You are saving your model as an HDF5 file via `model.save()` or `keras.saving.save_model(model)`. This file format is considered legacy. We recommend using instead the native Keras format, e.g. `model.save('my_model.keras')` or `keras.saving.save_model(model, 'my_model.keras')`. \n"
     ]
    }
   ],
   "source": [
    "# Save the trained model to a file named \"Model.h5\"\n",
    "model.save(\"Model.h5\")"
   ]
  },
  {
   "cell_type": "code",
   "execution_count": 9,
   "id": "1ac2ed68-d57f-4801-9032-6bcca709d065",
   "metadata": {},
   "outputs": [
    {
     "name": "stderr",
     "output_type": "stream",
     "text": [
      "WARNING:absl:Compiled the loaded model, but the compiled metrics have yet to be built. `model.compile_metrics` will be empty until you train or evaluate the model.\n"
     ]
    },
    {
     "name": "stdout",
     "output_type": "stream",
     "text": [
      "Model Loaded\n"
     ]
    }
   ],
   "source": [
    "# Import the load_model function from Keras\n",
    "from tensorflow.keras.models import load_model\n",
    "\n",
    "# Import the image module from Keras preprocessing\n",
    "from tensorflow.keras.preprocessing import image\n",
    "\n",
    "# Import numpy for array operations\n",
    "import numpy as np\n",
    "\n",
    "# Load the previously saved model from the file 'Model.h5'\n",
    "model = load_model('Model.h5')\n",
    "\n",
    "# Print a message indicating that the model has been loaded successfully\n",
    "print(\"Model Loaded\")"
   ]
  },
  {
   "cell_type": "code",
   "execution_count": 10,
   "id": "1274e2e4-e0a0-436e-b7ae-ada1d1afb026",
   "metadata": {},
   "outputs": [
    {
     "data": {
      "image/png": "[encoded data removed]",
      "text/plain": [
       "<Figure size 640x480 with 1 Axes>"
      ]
     },
     "metadata": {},
     "output_type": "display_data"
    }
   ],
   "source": [
    "from tensorflow.keras.preprocessing import image\n",
    "import numpy as np\n",
    "import matplotlib.pyplot as plt\n",
    "\n",
    "# Define the path to the test image\n",
    "test_image_path = r\"C:\\Users\\raksh\\Downloads\\Train\\Train\\blue\\blue6.jpg\"\n",
    "\n",
    "# Load the image and resize it to 224x224 pixels\n",
    "img = image.load_img(test_image_path, target_size=(224,224))\n",
    "\n",
    "# Convert the image to a numpy array\n",
    "img_array = image.img_to_array(img)\n",
    "\n",
    "# Expand the dimensions of the array to create a batch of size 1\n",
    "img_array = np.expand_dims(img_array, axis=0)\n",
    "\n",
    "# Display the image\n",
    "plt.imshow(img)\n",
    "plt.axis('off')  # This removes the axis ticks\n",
    "plt.show()"
   ]
  },
  {
   "cell_type": "code",
   "execution_count": 11,
   "id": "b9422d22-b2a1-4207-8c98-52593b6ac3a3",
   "metadata": {},
   "outputs": [
    {
     "name": "stdout",
     "output_type": "stream",
     "text": [
      "\u001b[1m1/1\u001b[0m \u001b[32m━━━━━━━━━━━━━━━━━━━━\u001b[0m\u001b[37m\u001b[0m \u001b[1m0s\u001b[0m 266ms/step\n",
      "[[0.95406944 0.03050121 0.01542933]]\n",
      "0\n",
      "blue\n"
     ]
    }
   ],
   "source": [
    "# Normalize the pixel values to the range [0, 1]\n",
    "img_array /= 255.\n",
    "\n",
    "# Use the model to make a prediction on the preprocessed image\n",
    "prediction = model.predict(img_array)\n",
    "\n",
    "# Print the raw prediction array\n",
    "print(prediction)\n",
    "\n",
    "# Find the index of the highest probability in the prediction\n",
    "val = np.argmax(prediction)\n",
    "\n",
    "# Print the index of the predicted class\n",
    "print(val)\n",
    "\n",
    "# Print the name of the predicted class\n",
    "print(classes[val])"
   ]
  },
  {
   "cell_type": "code",
   "execution_count": null,
   "id": "1d021a4c-5842-44bd-98f1-788f6767373d",
   "metadata": {},
   "outputs": [],
   "source": []
  }
 ],
 "metadata": {
  "kernelspec": {
   "display_name": "Python 3 (ipykernel)",
   "language": "python",
   "name": "python3"
  },
  "language_info": {
   "codemirror_mode": {
    "name": "ipython",
    "version": 3
   },
   "file_extension": ".py",
   "mimetype": "text/x-python",
   "name": "python",
   "nbconvert_exporter": "python",
   "pygments_lexer": "ipython3",
   "version": "3.11.7"
  }
 },
 "nbformat": 4,
 "nbformat_minor": 5
}
